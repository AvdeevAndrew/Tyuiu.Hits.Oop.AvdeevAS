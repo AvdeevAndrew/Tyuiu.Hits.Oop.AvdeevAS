{
 "cells": [
  {
   "cell_type": "markdown",
   "metadata": {},
   "source": [
    "<h1 style=\"color:DodgerBlue\">Индивидальный проект</h1>"
   ]
  },
  {
   "cell_type": "markdown",
   "metadata": {},
   "source": [
    "<h2 style=\"color:DodgerBlue\">Название проекта:</h2>\n",
    "\n",
    "----\n",
    "\n",
    "### Вариант задания \n"
   ]
  },
  {
   "cell_type": "markdown",
   "metadata": {},
   "source": [
    "<h2 style=\"color:DodgerBlue\">Описание проекта:</h2>\n",
    "\n",
    "----\n",
    "Вариант задания № 1\n",
    "Описание задачи:\n",
    "Создать базовый класс Person в C#, который будет представлять информацию о\n",
    "человеке. На основе этого класса разработать 2-3 производных класса,\n",
    "демонстрирующих принципы наследования и полиморфизма. В каждом из классов\n",
    "должны быть реализованы новые атрибуты и методы, а также переопределены\n",
    "некоторые методы базового класса для демонстрации полиморфизма.\n",
    "Требования к базовому классу Person:\n",
    "• Атрибуты: Имя (Name), Возраст (Age), Пол (Gender).\n",
    "• Методы:\n",
    "o GetInfo(): метод для получения информации о человеке в виде строки.\n",
    "o SayHello(): метод для вывода приветствия от человека.\n",
    "Требования к производным классам:\n",
    "1. Студент (Student): Должен содержать дополнительные атрибуты, такие как\n",
    "Университет (University) и Курс (Course). Метод SayHello() должен быть\n",
    "переопределен для добавления информации о курсе при приветствии.\n",
    "2. Работник (Employee): Должен содержать дополнительные атрибуты, такие\n",
    "как Компания (Company) и Зарплата (Salary). Метод GetInfo() должен быть\n",
    "переопределен для включения информации о компании и зарплате.\n",
    "3. Преподаватель (Teacher) (если требуется третий класс): Должен содержать\n",
    "дополнительные атрибуты, такие как Предмет (Subject) и Стаж работы\n",
    "(Experience). Метод SayHello() должен быть переопределен для добавления\n",
    "информации о преподаваемом предмете при приветствии."
   ]
  },
  {
   "cell_type": "markdown",
   "metadata": {},
   "source": [
    "<h2 style=\"color:DodgerBlue\">Реализация:</h2>\n",
    "\n",
    "----"
   ]
  },
  {
   "cell_type": "code",
   "execution_count": null,
   "metadata": {
    "dotnet_interactive": {
     "language": "csharp"
    },
    "polyglot_notebook": {
     "kernelName": "csharp"
    }
   },
   "outputs": [
    {
     "name": "stdout",
     "output_type": "stream",
     "text": [
      "Здравствуйте, меня зовут Алексей.\n",
      "Имя: Алексей, Возраст: 30, Пол: Мужской\n",
      "Здравствуйте, меня зовут Мария. Я учусь на 2 курсе.\n",
      "Имя: Мария, Возраст: 20, Пол: Женский\n",
      "Здравствуйте, меня зовут Иван.\n",
      "Имя: Иван, Возраст: 35, Пол: Мужской, Компания: ТехноКорп, Зарплата: ¤75,000.00\n",
      "Здравствуйте, меня зовут Ольга. Я преподаю Математика.\n",
      "Имя: Ольга, Возраст: 40, Пол: Женский\n"
     ]
    }
   ],
   "source": [
    "using System;\n",
    "\n",
    "public class Person\n",
    "{\n",
    "    public string Name { get; set; }\n",
    "    public int Age { get; set; }\n",
    "    public string Gender { get; set; }\n",
    "\n",
    "    public Person(string name, int age, string gender)\n",
    "    {\n",
    "        Name = name;\n",
    "        Age = age;\n",
    "        Gender = gender;\n",
    "    }\n",
    "\n",
    "    public virtual string GetInfo()\n",
    "    {\n",
    "        return $\"Имя: {Name}, Возраст: {Age}, Пол: {Gender}\";\n",
    "    }\n",
    "\n",
    "    public virtual void SayHello()\n",
    "    {\n",
    "        Console.WriteLine($\"Здравствуйте, меня зовут {Name}.\");\n",
    "    }\n",
    "}\n",
    "\n",
    "public class Student : Person\n",
    "{\n",
    "    public string University { get; set; }\n",
    "    public int Course { get; set; }\n",
    "\n",
    "    public Student(string name, int age, string gender, string university, int course)\n",
    "        : base(name, age, gender)\n",
    "    {\n",
    "        University = university;\n",
    "        Course = course;\n",
    "    }\n",
    "\n",
    "    public override void SayHello()\n",
    "    {\n",
    "        Console.WriteLine($\"Здравствуйте, меня зовут {Name}. Я учусь на {Course} курсе.\");\n",
    "    }\n",
    "}\n",
    "\n",
    "public class Employee : Person\n",
    "{\n",
    "    public string Company { get; set; }\n",
    "    public decimal Salary { get; set; }\n",
    "\n",
    "    public Employee(string name, int age, string gender, string company, decimal salary)\n",
    "        : base(name, age, gender)\n",
    "    {\n",
    "        Company = company;\n",
    "        Salary = salary;\n",
    "    }\n",
    "\n",
    "    public override string GetInfo()\n",
    "    {\n",
    "        return $\"{base.GetInfo()}, Компания: {Company}, Зарплата: {Salary:C}\";\n",
    "    }\n",
    "}\n",
    "\n",
    "public class Teacher : Person\n",
    "{\n",
    "    public string Subject { get; set; }\n",
    "    public int Experience { get; set; }\n",
    "\n",
    "    public Teacher(string name, int age, string gender, string subject, int experience)\n",
    "        : base(name, age, gender)\n",
    "    {\n",
    "        Subject = subject;\n",
    "        Experience = experience;\n",
    "    }\n",
    "\n",
    "    public override void SayHello()\n",
    "    {\n",
    "        Console.WriteLine($\"Здравствуйте, меня зовут {Name}. Я преподаю {Subject}.\");\n",
    "    }\n",
    "}\n",
    "\n",
    "        Person person = new Person(\"Алексей\", 30, \"Мужской\");\n",
    "        person.SayHello();\n",
    "        Console.WriteLine(person.GetInfo());\n",
    "\n",
    "        Student student = new Student(\"Мария\", 20, \"Женский\", \"МГУ\", 2);\n",
    "        student.SayHello();\n",
    "        Console.WriteLine(student.GetInfo());\n",
    "\n",
    "        Employee employee = new Employee(\"Иван\", 35, \"Мужской\", \"ТехноКорп\", 75000);\n",
    "        employee.SayHello();\n",
    "        Console.WriteLine(employee.GetInfo());\n",
    "\n",
    "        Teacher teacher = new Teacher(\"Ольга\", 40, \"Женский\", \"Математика\", 15);\n",
    "        teacher.SayHello();\n",
    "        Console.WriteLine(teacher.GetInfo());\n",
    "    \n"
   ]
  }
 ],
 "metadata": {
  "kernelspec": {
   "display_name": ".NET (C#)",
   "language": "C#",
   "name": ".net-csharp"
  },
  "polyglot_notebook": {
   "kernelInfo": {
    "defaultKernelName": "csharp",
    "items": [
     {
      "aliases": [],
      "languageName": "csharp",
      "name": "csharp"
     }
    ]
   }
  }
 },
 "nbformat": 4,
 "nbformat_minor": 2
}
